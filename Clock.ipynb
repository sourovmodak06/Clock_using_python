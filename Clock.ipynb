{
 "cells": [
  {
   "cell_type": "code",
   "execution_count": 1,
   "id": "78ec50e1",
   "metadata": {},
   "outputs": [],
   "source": [
    "from tkinter import *\n",
    "from tkinter.ttk import *"
   ]
  },
  {
   "cell_type": "code",
   "execution_count": 2,
   "id": "2cc649e3",
   "metadata": {},
   "outputs": [],
   "source": [
    "from time import strftime"
   ]
  },
  {
   "cell_type": "code",
   "execution_count": 3,
   "id": "58795e75",
   "metadata": {},
   "outputs": [],
   "source": [
    "root = Tk()\n",
    "root.title(\"Clock\")\n",
    "\n",
    "def time():\n",
    "    string = strftime('%H:%M:%S %p')\n",
    "    label.config(text=string)\n",
    "    label.after(1000, time)\n",
    "\n",
    "label = Label(root, font=(\"DS-DIGIB.TTF\", 80), background = \"black\", foreground = \"cyan\")\n",
    "label.pack(anchor = \"center\")\n",
    "time()\n",
    "mainloop()"
   ]
  },
  {
   "cell_type": "code",
   "execution_count": null,
   "id": "9a8fb662",
   "metadata": {},
   "outputs": [],
   "source": []
  }
 ],
 "metadata": {
  "kernelspec": {
   "display_name": "Python 3 (ipykernel)",
   "language": "python",
   "name": "python3"
  },
  "language_info": {
   "codemirror_mode": {
    "name": "ipython",
    "version": 3
   },
   "file_extension": ".py",
   "mimetype": "text/x-python",
   "name": "python",
   "nbconvert_exporter": "python",
   "pygments_lexer": "ipython3",
   "version": "3.11.1"
  }
 },
 "nbformat": 4,
 "nbformat_minor": 5
}
